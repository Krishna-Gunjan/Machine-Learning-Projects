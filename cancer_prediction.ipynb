{
 "cells": [
  {
   "cell_type": "code",
   "execution_count": null,
   "id": "5036d022-9c29-4e74-a987-2dcd45290805",
   "metadata": {},
   "outputs": [],
   "source": [
    "# Reading the Dataset\n",
    "\n",
    "import pandas as pd\n",
    "\n",
    "dataset = pd.read_csv('https://raw.githubusercontent.com/YBIFoundation/Dataset/main/Cancer.csv')\n"
   ]
  },
  {
   "cell_type": "code",
   "execution_count": null,
   "id": "bc40fe9a-17f2-457a-a9bc-c8f054cfddc8",
   "metadata": {},
   "outputs": [],
   "source": [
    "# Splitting the datasets into independent and dependent variables\n",
    "\n",
    "y = dataset['diagnosis']\n",
    "\n",
    "X = dataset.drop(['id', 'diagnosis', 'Unnamed: 32'], axis = 1)"
   ]
  },
  {
   "cell_type": "code",
   "execution_count": null,
   "id": "7ba6a689-10f8-44a3-b27c-68acc6e424c4",
   "metadata": {},
   "outputs": [],
   "source": [
    "# Splitting the datasets into training and testing data\n",
    "\n",
    "from sklearn.model_selection import train_test_split\n",
    "\n",
    "X_train, X_test, y_train, y_test = train_test_split(X, y, train_size=0.7, random_state=2579)"
   ]
  },
  {
   "cell_type": "code",
   "execution_count": null,
   "id": "3948845f-7742-43ca-b715-8cf693cfbc01",
   "metadata": {},
   "outputs": [],
   "source": [
    "# Creating the model\n",
    "\n",
    "from sklearn.linear_model import LogisticRegression\n",
    "\n",
    "cancer_prediction_model = LogisticRegression(max_iter = 5000)"
   ]
  },
  {
   "cell_type": "code",
   "execution_count": null,
   "id": "38101eb6-ff68-421e-aab9-ab2fab8c7d94",
   "metadata": {},
   "outputs": [],
   "source": [
    "# Training the model\n",
    "\n",
    "cancer_prediction_model.fit(X_train, y_train)"
   ]
  },
  {
   "cell_type": "code",
   "execution_count": null,
   "id": "611980c1-c568-4c6d-9348-3c53f0863a28",
   "metadata": {},
   "outputs": [],
   "source": [
    "# Testind the model\n",
    "\n",
    "y_pred = cancer_prediction_model.predict(X_test)\n",
    "\n",
    "y_pred"
   ]
  },
  {
   "cell_type": "code",
   "execution_count": null,
   "id": "7cf97920-dd8c-4cf8-86c3-120bd0a5fa96",
   "metadata": {},
   "outputs": [],
   "source": [
    "# Calculating the model accuracy\n",
    "\n",
    "from sklearn.metrics import confusion_matrix, accuracy_score, classification_report\n",
    "\n",
    "confusion_matrix(y_test, y_pred)\n"
   ]
  },
  {
   "cell_type": "code",
   "execution_count": null,
   "id": "69c51d52-e6e5-4465-bc6c-81dae785bd42",
   "metadata": {},
   "outputs": [],
   "source": [
    "accuracy_score(y_test, y_pred)"
   ]
  },
  {
   "cell_type": "code",
   "execution_count": null,
   "id": "3c4fbb23-ebae-44b1-82e7-2357ac6d4bd7",
   "metadata": {},
   "outputs": [],
   "source": [
    "classification_report(y_test, y_pred)"
   ]
  }
 ],
 "metadata": {
  "kernelspec": {
   "display_name": "Python 3 (ipykernel)",
   "language": "python",
   "name": "python3"
  },
  "language_info": {
   "codemirror_mode": {
    "name": "ipython",
    "version": 3
   },
   "file_extension": ".py",
   "mimetype": "text/x-python",
   "name": "python",
   "nbconvert_exporter": "python",
   "pygments_lexer": "ipython3",
   "version": "3.11.9"
  }
 },
 "nbformat": 4,
 "nbformat_minor": 5
}
